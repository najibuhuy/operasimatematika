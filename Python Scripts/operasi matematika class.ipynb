{
 "cells": [
  {
   "cell_type": "code",
   "execution_count": 7,
   "metadata": {},
   "outputs": [],
   "source": [
    "class operasi(object):\n",
    "    def __init__(self,a,b):\n",
    "        self.a = a\n",
    "        self.b = b\n",
    "        \n",
    "    def tambah(self):\n",
    "        a,b = self.a, self.b\n",
    "        return a+b\n",
    "    \n",
    "    def kurang(self):\n",
    "        a,b = self.a, self.b\n",
    "        return a-b\n",
    "    \n",
    "    def kali(self):\n",
    "        a,b = self.a, self.b\n",
    "        return a*b\n",
    "    \n",
    "    def bagi(self):\n",
    "        a,b = self.a, self.b\n",
    "        return a/b\n",
    "    \n",
    "    def pangkat(self):\n",
    "        a,b = self.a, self.b\n",
    "        return a**b\n",
    "    \n",
    "\n",
    "        \n",
    "def func_op(c,d,e):\n",
    "    opmat = operasi(c,d)\n",
    "    if(e == \"+\"):\n",
    "        print(opmat.tambah())\n",
    "    \n",
    "    elif(e == \"-\"):\n",
    "        print(opmat.kurang())\n",
    "        \n",
    "    elif(e == \"x\"):\n",
    "        print(opmat.kali())\n",
    "        \n",
    "    elif(e == \"/\"):\n",
    "        print(opmat.bagi())\n",
    "    \n",
    "    elif(e == \"^\"):\n",
    "        print(opmat.pangkat())\n",
    "\n"
   ]
  },
  {
   "cell_type": "code",
   "execution_count": 8,
   "metadata": {},
   "outputs": [
    {
     "name": "stdout",
     "output_type": "stream",
     "text": [
      "4\n"
     ]
    }
   ],
   "source": [
    "func_op(2,2,\"^\")"
   ]
  },
  {
   "cell_type": "code",
   "execution_count": null,
   "metadata": {},
   "outputs": [],
   "source": []
  }
 ],
 "metadata": {
  "kernelspec": {
   "display_name": "Python 3",
   "language": "python",
   "name": "python3"
  },
  "language_info": {
   "codemirror_mode": {
    "name": "ipython",
    "version": 3
   },
   "file_extension": ".py",
   "mimetype": "text/x-python",
   "name": "python",
   "nbconvert_exporter": "python",
   "pygments_lexer": "ipython3",
   "version": "3.7.6"
  }
 },
 "nbformat": 4,
 "nbformat_minor": 4
}
